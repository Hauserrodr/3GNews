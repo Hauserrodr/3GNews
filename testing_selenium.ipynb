{
 "cells": [
  {
   "cell_type": "code",
   "execution_count": 2,
   "metadata": {},
   "outputs": [],
   "source": [
    "from loguru import logger\n",
    "import requests\n",
    "import os\n",
    "from selenium import webdriver\n",
    "from selenium.webdriver.common.by import By\n",
    "from selenium.webdriver.support.ui import WebDriverWait\n",
    "from selenium.webdriver.support import expected_conditions as EC\n",
    "from selenium.webdriver.common.keys import Keys\n",
    "from selenium.webdriver.common.action_chains import ActionChains\n",
    "import time\n",
    "import json\n",
    "import pandas as pd\n",
    "options = webdriver.ChromeOptions()\n",
    "options.add_experimental_option(\"debuggerAddress\", \"localhost:9999\")\n",
    "driver = webdriver.Chrome(options=options)"
   ]
  },
  {
   "cell_type": "code",
   "execution_count": 4,
   "metadata": {},
   "outputs": [],
   "source": [
    "url = \"https://www.bing.com/images/create/\"\n",
    "driver.get(url)"
   ]
  },
  {
   "cell_type": "code",
   "execution_count": 15,
   "metadata": {},
   "outputs": [
    {
     "data": {
      "text/plain": [
       "[<selenium.webdriver.remote.webelement.WebElement (session=\"4ab375b8c29df48a558a26666c50c7d2\", element=\"3232390F996F49BA3C6DF4B9D00EC4BB_element_136\")>]"
      ]
     },
     "execution_count": 15,
     "metadata": {},
     "output_type": "execute_result"
    }
   ],
   "source": [
    "\n",
    "# visited_urls = []\n",
    "class_elements = driver.find_elements(By.XPATH, '//input[contains(@class, \"b_searchbox gi_sb\")]')\n",
    "class_elements"
   ]
  },
  {
   "cell_type": "code",
   "execution_count": 17,
   "metadata": {},
   "outputs": [],
   "source": [
    "# class_elements[0].click()\n",
    "class_elements[0].send_keys('Testing\\n')"
   ]
  },
  {
   "cell_type": "code",
   "execution_count": 49,
   "metadata": {},
   "outputs": [
    {
     "ename": "IndexError",
     "evalue": "list index out of range",
     "output_type": "error",
     "traceback": [
      "\u001b[1;31m---------------------------------------------------------------------------\u001b[0m",
      "\u001b[1;31mIndexError\u001b[0m                                Traceback (most recent call last)",
      "Cell \u001b[1;32mIn[49], line 5\u001b[0m\n\u001b[0;32m      2\u001b[0m div_element \u001b[39m=\u001b[39m driver\u001b[39m.\u001b[39mfind_elements(By\u001b[39m.\u001b[39mID, \u001b[39m\"\u001b[39m\u001b[39mmmComponent_images_as_1\u001b[39m\u001b[39m\"\u001b[39m)\n\u001b[0;32m      4\u001b[0m \u001b[39m# Locate all img tags within the div\u001b[39;00m\n\u001b[1;32m----> 5\u001b[0m images \u001b[39m=\u001b[39m div_element[\u001b[39m0\u001b[39;49m]\u001b[39m.\u001b[39mfind_elements(By\u001b[39m.\u001b[39mTAG_NAME, \u001b[39m\"\u001b[39m\u001b[39mimg\u001b[39m\u001b[39m\"\u001b[39m)\n\u001b[0;32m      6\u001b[0m \u001b[39mprint\u001b[39m(images)\n",
      "\u001b[1;31mIndexError\u001b[0m: list index out of range"
     ]
    }
   ],
   "source": [
    "# Find the div containing the images\n",
    "div_element = driver.find_elements(By.ID, \"mmComponent_images_as_1\")\n",
    "\n",
    "# Locate all img tags within the div\n",
    "images = div_element[0].find_elements(By.TAG_NAME, \"img\")\n",
    "print(images)"
   ]
  },
  {
   "cell_type": "code",
   "execution_count": 60,
   "metadata": {},
   "outputs": [],
   "source": [
    "driver.switch_to.default_content()\n",
    "for idx, image in enumerate(images):\n",
    "    image.click()\n",
    "    time.sleep(5)\n",
    "    driver.switch_to.frame(\"OverlayIFrame\")\n",
    "\n",
    "    # Locate the large image\n",
    "    large_image_element = driver.find_elements(By.XPATH, '//div[contains(@class, \"imgContainer\")]')\n",
    "    for image_element in large_image_element:\n",
    "        if '<img' in image_element.get_attribute('innerHTML'):\n",
    "            break\n",
    "\n",
    "    # Get the src attribute of the large image\n",
    "    src = image_element.get_attribute('innerHTML').split('src=\"')[-1].split('\"')[0]\n",
    "\n",
    "    # Download and save the image\n",
    "    response = requests.get(src, stream=True)\n",
    "    with open(f'image_{idx}.png', 'wb') as out_file:\n",
    "        out_file.write(response.content)\n",
    "\n",
    "    driver.switch_to.default_content()\n",
    "\n",
    "    # Navigate back to the thumbnails\n",
    "    driver.back()"
   ]
  },
  {
   "cell_type": "code",
   "execution_count": 22,
   "metadata": {},
   "outputs": [],
   "source": [
    "for idx, image in enumerate(images):\n",
    "    src = image.get_attribute(\"src\")\n",
    "    response = requests.get(src, stream=True)\n",
    "    with open(f'image_{idx}.png', 'wb') as out_file:\n",
    "        out_file.write(response.content)\n"
   ]
  }
 ],
 "metadata": {
  "kernelspec": {
   "display_name": "telematica",
   "language": "python",
   "name": "python3"
  },
  "language_info": {
   "codemirror_mode": {
    "name": "ipython",
    "version": 3
   },
   "file_extension": ".py",
   "mimetype": "text/x-python",
   "name": "python",
   "nbconvert_exporter": "python",
   "pygments_lexer": "ipython3",
   "version": "3.9.17"
  },
  "orig_nbformat": 4
 },
 "nbformat": 4,
 "nbformat_minor": 2
}
